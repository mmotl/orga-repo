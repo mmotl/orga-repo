{
 "cells": [
  {
   "cell_type": "code",
   "execution_count": null,
   "metadata": {
    "tags": [
     "solution"
    ]
   },
   "outputs": [],
   "source": [
    "# this is a solution cell\n",
    "x + 5"
   ]
  },
  {
   "cell_type": "code",
   "execution_count": null,

